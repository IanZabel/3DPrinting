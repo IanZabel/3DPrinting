{
 "cells": [
  {
   "cell_type": "markdown",
   "metadata": {},
   "source": [
    "# Notes for 3D Printing\n",
    "- [Link to .stl file repo](https://github.com/IanZabel/3DPrinting/tree/master/Homework_1_rev2)\n",
    "- Student 21\n",
    "\n",
    "## Day 2 (6.23.2016):\n",
    "### SLA, Micro SLA:\n",
    "- Vat of liq. UV-curable resin\n",
    "- DLP light exposure > material hardening\n",
    "- Requires support structures\n",
    "- Good for jewlery and investment cast\n",
    "\n",
    "### Selective Laser Sintering (SLS):\n",
    "- Wiping material across surface -> melt material\n",
    "- Rising part, lots of cleaning\n",
    "- Polymer powder fused together\n",
    "- Already has support structure\n",
    "- Always have thin walls and a drain\n",
    "- Chamber is heated and inert\n",
    "- Curing of photopolymers\n",
    "- Powder can be re-used (w/ a certain amount of used and un-used)\n",
    "- Close to injection molded material properties\n",
    "\n",
    "### Directed Metal Printing (DMP, DMLS)\n",
    "- Need support\n",
    "- Metal powder > electron beam w/ heated or intert gas\n",
    "- Powdered aluminum can react poorly and explode\n",
    "- Waste material is a big deal\n",
    "\n",
    "### MultiJet Printing (MJP)\n",
    "- Requires support structure\n",
    "- Layer of polymer\n",
    "- Also Polyjet from Stratasys\n",
    "\n",
    "### (CJP)\n",
    "- Fine powder, plaster or gypsum\n",
    "- Fast\n",
    "- Already has support\n",
    "- Really fragile\n",
    "\n",
    "## Day 3 (6.28.2016):\n",
    "### Homework Files:\n",
    "- All homework different in x, y, z\n",
    "- Need micrometer and calipers\n",
    "\n",
    "### Sites and Programs\n",
    "- RepRap, Arduino, Sparkfun Electronics\n",
    "- [Carbon3D](http://www.carbon3d.com/)\n",
    "- [EnvisionTEC](http://www.envisiontec.com/)\n",
    "- cubepro/downloadstems.com\n",
    "- [Shapeways](www.shapeways.com)\n",
    "- [GrabCAD](www.grabcad.com)\n",
    "- [Thingiverse](www.thingiverse.com)\n",
    "- [Instructables](www.instructables.com)\n",
    "- nervoussystem, cellcycle\n",
    "\n",
    "### Homework 1\n",
    "- <b>Block_20_20_20.stl</b> is the <b>1inch_cube.stl</b> homework file\n",
    "- Click part > scale (LHS)\n",
    "- Homework due Thursday, July 30th\n",
    "- <b>Resolution:</b> No significant change in material\n",
    "- <b>Infill:</b> Significant change in material\n",
    "- Lays initial line to purge the extruder"
   ]
  },
  {
   "cell_type": "code",
   "execution_count": null,
   "metadata": {
    "collapsed": true
   },
   "outputs": [],
   "source": []
  }
 ],
 "metadata": {
  "kernelspec": {
   "display_name": "Python 3",
   "language": "python",
   "name": "python3"
  },
  "language_info": {
   "codemirror_mode": {
    "name": "ipython",
    "version": 3
   },
   "file_extension": ".py",
   "mimetype": "text/x-python",
   "name": "python",
   "nbconvert_exporter": "python",
   "pygments_lexer": "ipython3",
   "version": "3.5.1"
  }
 },
 "nbformat": 4,
 "nbformat_minor": 0
}
