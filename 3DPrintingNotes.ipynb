{
 "cells": [
  {
   "cell_type": "markdown",
   "metadata": {},
   "source": [
    "# Notes for 3D Printing\n",
    "These are the notes for ME5XX, 3D Printing, \n",
    "[Link to .stl file repo]()\n",
    "## Day 2 (6.23.2016):\n",
    "### SLA, Micro SLA:\n",
    "- Vat of liq. UV-curable resin\n",
    "- DLP light exposure -> material hardening\n",
    "- Requires support structures\n",
    "- Good for jewlery and investment cast\n",
    "\n",
    "### Selective Laser Sintering (SLS):\n",
    "- Wiping material across surface -> melt material\n",
    "- Rising part, lots of cleaning\n",
    "- Polymer powder fused together\n",
    "- Already has support structure\n",
    "- Always have thin walls and a drain\n",
    "- Chamber is heated and inert\n",
    "- Curing of photopolymers\n",
    "- Powder can be re-used (w/ a certain amount of used and un-used)\n",
    "- Close to injection molded material properties\n",
    "\n",
    "### Directed Metal Printing (DMP, DMLS)\n",
    "- Need support\n",
    "- Metal powder -> electron beam w/ heated or intert gas\n",
    "- Powdered aluminum can react poorly and explode\n",
    "- Waste material is a big deal\n",
    "\n",
    "### MultiJet Printing (MJP)\n",
    "- Requires support structure\n",
    "- Layer of polymer\n",
    "- Also Polyjet from Stratasys\n",
    "\n",
    "### (CJP)\n",
    "- Fine powder, plaster or gypsum\n",
    "- Fast\n",
    "- Already has support\n",
    "- Really fragile\n",
    "\n",
    "## Day 3 (6.28.2016):"
   ]
  },
  {
   "cell_type": "code",
   "execution_count": null,
   "metadata": {
    "collapsed": true
   },
   "outputs": [],
   "source": []
  }
 ],
 "metadata": {
  "kernelspec": {
   "display_name": "Python 3",
   "language": "python",
   "name": "python3"
  },
  "language_info": {
   "codemirror_mode": {
    "name": "ipython",
    "version": 3
   },
   "file_extension": ".py",
   "mimetype": "text/x-python",
   "name": "python",
   "nbconvert_exporter": "python",
   "pygments_lexer": "ipython3",
   "version": "3.5.1"
  }
 },
 "nbformat": 4,
 "nbformat_minor": 0
}
