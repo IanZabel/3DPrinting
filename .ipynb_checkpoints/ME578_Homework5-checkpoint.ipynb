{
 "cells": [
  {
   "cell_type": "markdown",
   "metadata": {},
   "source": [
    "## Homework 5\n",
    "### Ian Zabel"
   ]
  },
  {
   "cell_type": "code",
   "execution_count": 1,
   "metadata": {
    "collapsed": false
   },
   "outputs": [
    {
     "ename": "NameError",
     "evalue": "name 'Sxc' is not defined",
     "output_type": "error",
     "traceback": [
      "\u001b[1;31m---------------------------------------------------------------------------\u001b[0m",
      "\u001b[1;31mNameError\u001b[0m                                 Traceback (most recent call last)",
      "\u001b[1;32m<ipython-input-1-a6755f52d588>\u001b[0m in \u001b[0;36m<module>\u001b[1;34m()\u001b[0m\n\u001b[0;32m     20\u001b[0m \u001b[0mGsi\u001b[0m \u001b[1;33m=\u001b[0m \u001b[0mEsi\u001b[0m\u001b[1;33m/\u001b[0m\u001b[1;33m(\u001b[0m\u001b[1;36m2\u001b[0m\u001b[1;33m*\u001b[0m\u001b[1;33m(\u001b[0m\u001b[1;36m1\u001b[0m\u001b[1;33m+\u001b[0m\u001b[0mvsi\u001b[0m\u001b[1;33m)\u001b[0m\u001b[1;33m)\u001b[0m \u001b[1;31m# Shear modulus, substrate (GPa)\u001b[0m\u001b[1;33m\u001b[0m\u001b[0m\n\u001b[0;32m     21\u001b[0m \u001b[1;33m\u001b[0m\u001b[0m\n\u001b[1;32m---> 22\u001b[1;33m \u001b[0mexc\u001b[0m \u001b[1;33m=\u001b[0m \u001b[1;33m(\u001b[0m\u001b[1;36m1\u001b[0m\u001b[1;33m/\u001b[0m\u001b[0mEc\u001b[0m\u001b[1;33m)\u001b[0m\u001b[1;33m*\u001b[0m\u001b[1;33m(\u001b[0m\u001b[0mSxc\u001b[0m\u001b[1;33m-\u001b[0m\u001b[0mvc\u001b[0m\u001b[1;33m*\u001b[0m\u001b[1;33m(\u001b[0m\u001b[0mSyc\u001b[0m\u001b[1;33m+\u001b[0m\u001b[0mSzc\u001b[0m\u001b[1;33m)\u001b[0m\u001b[1;33m)\u001b[0m \u001b[1;31m# XX strain, copper\u001b[0m\u001b[1;33m\u001b[0m\u001b[0m\n\u001b[0m\u001b[0;32m     23\u001b[0m \u001b[0meyc\u001b[0m \u001b[1;33m=\u001b[0m \u001b[1;33m(\u001b[0m\u001b[1;36m1\u001b[0m\u001b[1;33m/\u001b[0m\u001b[0mEc\u001b[0m\u001b[1;33m)\u001b[0m\u001b[1;33m*\u001b[0m\u001b[1;33m(\u001b[0m\u001b[0mSyc\u001b[0m\u001b[1;33m-\u001b[0m\u001b[0mvc\u001b[0m\u001b[1;33m*\u001b[0m\u001b[1;33m(\u001b[0m\u001b[0mSxc\u001b[0m\u001b[1;33m+\u001b[0m\u001b[0mSzc\u001b[0m\u001b[1;33m)\u001b[0m\u001b[1;33m)\u001b[0m \u001b[1;31m# YY strain, copper\u001b[0m\u001b[1;33m\u001b[0m\u001b[0m\n\u001b[0;32m     24\u001b[0m \u001b[0mezc\u001b[0m \u001b[1;33m=\u001b[0m \u001b[1;33m(\u001b[0m\u001b[1;36m1\u001b[0m\u001b[1;33m/\u001b[0m\u001b[0mEc\u001b[0m\u001b[1;33m)\u001b[0m\u001b[1;33m*\u001b[0m\u001b[1;33m(\u001b[0m\u001b[0mSzc\u001b[0m\u001b[1;33m-\u001b[0m\u001b[0mvc\u001b[0m\u001b[1;33m*\u001b[0m\u001b[1;33m(\u001b[0m\u001b[0mSxc\u001b[0m\u001b[1;33m+\u001b[0m\u001b[0mSyc\u001b[0m\u001b[1;33m)\u001b[0m\u001b[1;33m)\u001b[0m \u001b[1;31m# ZZ strain, copper\u001b[0m\u001b[1;33m\u001b[0m\u001b[0m\n",
      "\u001b[1;31mNameError\u001b[0m: name 'Sxc' is not defined"
     ]
    }
   ],
   "source": [
    "# Homework 5, Python 2\n",
    "# Ian Zabel\n",
    "import numpy as np\n",
    "\n",
    "# Parameters\n",
    "tf = 2 # Copper film thickness (micrometers)\n",
    "ts = 300 # Si substrate thickness (micrometers)\n",
    "\n",
    "Ec = 117 # Modulus, copper (GPa)\n",
    "vc = 0.33 # Poisson, copper\n",
    "ac = 16.7*10**(-6) # CTE copper (/C)\n",
    "\n",
    "Esi = 130 # Modulus, substrate (GPa)\n",
    "vsi = 0.28 # Poisson, substrate\n",
    "asi = 3*10**(-6) # CTE substrate (/C)\n",
    "\n",
    "Mc = Ec/(1-vc)\n",
    "Szc = 0 # Film stress ZZ is 0\n",
    "\n",
    "Gc = Ec/(2*(1+vc)) # Shear modulus, copper (GPa)\n",
    "Gsi = Esi/(2*(1+vsi)) # Shear modulus, substrate (GPa)\n",
    "\n",
    "exc = (1/Ec)*(Sxc-vc*(Syc+Szc)) # XX strain, copper\n",
    "eyc = (1/Ec)*(Syc-vc*(Sxc+Szc)) # YY strain, copper\n",
    "ezc = (1/Ec)*(Szc-vc*(Sxc+Syc)) # ZZ strain, copper\n",
    "\n",
    "Ac = 1-vc; Asi = 1-vsi\n",
    "Bc = (1-2*vc)/2; Bsi = (1-2*vsi)/2\n",
    "\n",
    "C1c = Ec/((1+vc)*(1-2*vc))\n",
    "C2c = Esi/((1+vsi)*(1-2*vsi))\n",
    "\n",
    "M2c = np.array([[Ac, vc, vc, 0, 0, 0],\n",
    "                [vc, Ac, vc, 0, 0, 0],\n",
    "                [vc, vc, Ac, 0, 0, 0],\n",
    "                [0, 0, 0, Bc, 0, 0],\n",
    "                [0, 0, 0, 0, Bc, 0],\n",
    "                [0, 0, 0, 0, 0, Bc]])\n",
    "\n",
    "M2si = np.array([[Asi, vsi, vsi, 0, 0, 0],\n",
    "                 [vsi, Asi, vsi, 0, 0, 0],\n",
    "                 [vsi, vsi, Asi, 0, 0, 0],\n",
    "                 [0, 0, 0, Bsi, 0, 0],\n",
    "                 [0, 0, 0, 0, Bsi, 0],\n",
    "                 [0, 0, 0, 0, 0, Bsi]])\n",
    "\n",
    "# Strain, copper\n",
    "ec = np.array([[exxc],\n",
    "               [eyyc],\n",
    "               [-0.005],\n",
    "               [exyc],\n",
    "               [eyzc],\n",
    "               [exzc]])\n",
    "\n",
    "# Strain, substrate\n",
    "esi = np.array([[exxsi],\n",
    "                [eyysi],\n",
    "                [-0.005],\n",
    "                [exysi],\n",
    "                [eyzsi],\n",
    "                [exzsi]])\n",
    "\n",
    "# Part a) Calculate the strain and stress in the film\n"
   ]
  },
  {
   "cell_type": "code",
   "execution_count": null,
   "metadata": {
    "collapsed": true
   },
   "outputs": [],
   "source": []
  }
 ],
 "metadata": {
  "kernelspec": {
   "display_name": "Python 2",
   "language": "python",
   "name": "python2"
  },
  "language_info": {
   "codemirror_mode": {
    "name": "ipython",
    "version": 2
   },
   "file_extension": ".py",
   "mimetype": "text/x-python",
   "name": "python",
   "nbconvert_exporter": "python",
   "pygments_lexer": "ipython2",
   "version": "2.7.11"
  }
 },
 "nbformat": 4,
 "nbformat_minor": 0
}
